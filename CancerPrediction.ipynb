{
  "nbformat": 4,
  "nbformat_minor": 0,
  "metadata": {
    "colab": {
      "name": "CancerPrediction.ipynb",
      "provenance": [],
      "authorship_tag": "ABX9TyPs650Xdk2abFGNc+f89knC",
      "include_colab_link": true
    },
    "kernelspec": {
      "name": "python3",
      "display_name": "Python 3"
    },
    "language_info": {
      "name": "python"
    }
  },
  "cells": [
    {
      "cell_type": "markdown",
      "metadata": {
        "id": "view-in-github",
        "colab_type": "text"
      },
      "source": [
        "<a href=\"https://colab.research.google.com/github/Cyrill98/Cancer-Prediction/blob/master/CancerPrediction.ipynb\" target=\"_parent\"><img src=\"https://colab.research.google.com/assets/colab-badge.svg\" alt=\"Open In Colab\"/></a>"
      ]
    },
    {
      "cell_type": "code",
      "metadata": {
        "colab": {
          "base_uri": "https://localhost:8080/"
        },
        "id": "5wa1TZ_lPSNc",
        "outputId": "0c1fe80b-e401-4997-d668-bee99cf69aad"
      },
      "source": [
        "import tensorflow as tf\n",
        "print(tf.__version__)"
      ],
      "execution_count": 25,
      "outputs": [
        {
          "output_type": "stream",
          "text": [
            "2.5.0\n"
          ],
          "name": "stdout"
        }
      ]
    },
    {
      "cell_type": "markdown",
      "metadata": {
        "id": "P29vxMcvpKNE"
      },
      "source": [
        "# **Load Data**\n"
      ]
    },
    {
      "cell_type": "code",
      "metadata": {
        "id": "3YWyh-IpQdV-"
      },
      "source": [
        "from sklearn.datasets import load_breast_cancer"
      ],
      "execution_count": 26,
      "outputs": []
    },
    {
      "cell_type": "code",
      "metadata": {
        "id": "VQ_pSYLAbRdN"
      },
      "source": [
        "data = load_breast_cancer()"
      ],
      "execution_count": 27,
      "outputs": []
    },
    {
      "cell_type": "code",
      "metadata": {
        "colab": {
          "base_uri": "https://localhost:8080/"
        },
        "id": "imUMVXl9bVYc",
        "outputId": "8a507e42-4994-45a5-b12f-0236f7f82a33"
      },
      "source": [
        "type(data)"
      ],
      "execution_count": 28,
      "outputs": [
        {
          "output_type": "execute_result",
          "data": {
            "text/plain": [
              "sklearn.utils.Bunch"
            ]
          },
          "metadata": {
            "tags": []
          },
          "execution_count": 28
        }
      ]
    },
    {
      "cell_type": "code",
      "metadata": {
        "colab": {
          "base_uri": "https://localhost:8080/"
        },
        "id": "Zcgz24YUdkIF",
        "outputId": "d6615507-2c3d-4819-f357-49ad56d03701"
      },
      "source": [
        "data.keys()"
      ],
      "execution_count": 29,
      "outputs": [
        {
          "output_type": "execute_result",
          "data": {
            "text/plain": [
              "dict_keys(['data', 'target', 'target_names', 'DESCR', 'feature_names', 'filename'])"
            ]
          },
          "metadata": {
            "tags": []
          },
          "execution_count": 29
        }
      ]
    },
    {
      "cell_type": "code",
      "metadata": {
        "colab": {
          "base_uri": "https://localhost:8080/"
        },
        "id": "IpMgIHn2efRA",
        "outputId": "b75f7be3-e68f-49f1-c1db-8eaa6ee41222"
      },
      "source": [
        "data.data.shape"
      ],
      "execution_count": 30,
      "outputs": [
        {
          "output_type": "execute_result",
          "data": {
            "text/plain": [
              "(569, 30)"
            ]
          },
          "metadata": {
            "tags": []
          },
          "execution_count": 30
        }
      ]
    },
    {
      "cell_type": "code",
      "metadata": {
        "colab": {
          "base_uri": "https://localhost:8080/"
        },
        "id": "vZBce2Yif8PO",
        "outputId": "1f615678-6c6d-447f-9c38-51e6763735d7"
      },
      "source": [
        "data.target"
      ],
      "execution_count": 31,
      "outputs": [
        {
          "output_type": "execute_result",
          "data": {
            "text/plain": [
              "array([0, 0, 0, 0, 0, 0, 0, 0, 0, 0, 0, 0, 0, 0, 0, 0, 0, 0, 0, 1, 1, 1,\n",
              "       0, 0, 0, 0, 0, 0, 0, 0, 0, 0, 0, 0, 0, 0, 0, 1, 0, 0, 0, 0, 0, 0,\n",
              "       0, 0, 1, 0, 1, 1, 1, 1, 1, 0, 0, 1, 0, 0, 1, 1, 1, 1, 0, 1, 0, 0,\n",
              "       1, 1, 1, 1, 0, 1, 0, 0, 1, 0, 1, 0, 0, 1, 1, 1, 0, 0, 1, 0, 0, 0,\n",
              "       1, 1, 1, 0, 1, 1, 0, 0, 1, 1, 1, 0, 0, 1, 1, 1, 1, 0, 1, 1, 0, 1,\n",
              "       1, 1, 1, 1, 1, 1, 1, 0, 0, 0, 1, 0, 0, 1, 1, 1, 0, 0, 1, 0, 1, 0,\n",
              "       0, 1, 0, 0, 1, 1, 0, 1, 1, 0, 1, 1, 1, 1, 0, 1, 1, 1, 1, 1, 1, 1,\n",
              "       1, 1, 0, 1, 1, 1, 1, 0, 0, 1, 0, 1, 1, 0, 0, 1, 1, 0, 0, 1, 1, 1,\n",
              "       1, 0, 1, 1, 0, 0, 0, 1, 0, 1, 0, 1, 1, 1, 0, 1, 1, 0, 0, 1, 0, 0,\n",
              "       0, 0, 1, 0, 0, 0, 1, 0, 1, 0, 1, 1, 0, 1, 0, 0, 0, 0, 1, 1, 0, 0,\n",
              "       1, 1, 1, 0, 1, 1, 1, 1, 1, 0, 0, 1, 1, 0, 1, 1, 0, 0, 1, 0, 1, 1,\n",
              "       1, 1, 0, 1, 1, 1, 1, 1, 0, 1, 0, 0, 0, 0, 0, 0, 0, 0, 0, 0, 0, 0,\n",
              "       0, 0, 1, 1, 1, 1, 1, 1, 0, 1, 0, 1, 1, 0, 1, 1, 0, 1, 0, 0, 1, 1,\n",
              "       1, 1, 1, 1, 1, 1, 1, 1, 1, 1, 1, 0, 1, 1, 0, 1, 0, 1, 1, 1, 1, 1,\n",
              "       1, 1, 1, 1, 1, 1, 1, 1, 1, 0, 1, 1, 1, 0, 1, 0, 1, 1, 1, 1, 0, 0,\n",
              "       0, 1, 1, 1, 1, 0, 1, 0, 1, 0, 1, 1, 1, 0, 1, 1, 1, 1, 1, 1, 1, 0,\n",
              "       0, 0, 1, 1, 1, 1, 1, 1, 1, 1, 1, 1, 1, 0, 0, 1, 0, 0, 0, 1, 0, 0,\n",
              "       1, 1, 1, 1, 1, 0, 1, 1, 1, 1, 1, 0, 1, 1, 1, 0, 1, 1, 0, 0, 1, 1,\n",
              "       1, 1, 1, 1, 0, 1, 1, 1, 1, 1, 1, 1, 0, 1, 1, 1, 1, 1, 0, 1, 1, 0,\n",
              "       1, 1, 1, 1, 1, 1, 1, 1, 1, 1, 1, 1, 0, 1, 0, 0, 1, 0, 1, 1, 1, 1,\n",
              "       1, 0, 1, 1, 0, 1, 0, 1, 1, 0, 1, 0, 1, 1, 1, 1, 1, 1, 1, 1, 0, 0,\n",
              "       1, 1, 1, 1, 1, 1, 0, 1, 1, 1, 1, 1, 1, 1, 1, 1, 1, 0, 1, 1, 1, 1,\n",
              "       1, 1, 1, 0, 1, 0, 1, 1, 0, 1, 1, 1, 1, 1, 0, 0, 1, 0, 1, 0, 1, 1,\n",
              "       1, 1, 1, 0, 1, 1, 0, 1, 0, 1, 0, 0, 1, 1, 1, 0, 1, 1, 1, 1, 1, 1,\n",
              "       1, 1, 1, 1, 1, 0, 1, 0, 0, 1, 1, 1, 1, 1, 1, 1, 1, 1, 1, 1, 1, 1,\n",
              "       1, 1, 1, 1, 1, 1, 1, 1, 1, 1, 1, 1, 0, 0, 0, 0, 0, 0, 1])"
            ]
          },
          "metadata": {
            "tags": []
          },
          "execution_count": 31
        }
      ]
    },
    {
      "cell_type": "code",
      "metadata": {
        "colab": {
          "base_uri": "https://localhost:8080/"
        },
        "id": "N8GmBzfsgEyf",
        "outputId": "9fdd2c27-e135-49c7-ed32-45e104bd4a75"
      },
      "source": [
        "data.target_names"
      ],
      "execution_count": 32,
      "outputs": [
        {
          "output_type": "execute_result",
          "data": {
            "text/plain": [
              "array(['malignant', 'benign'], dtype='<U9')"
            ]
          },
          "metadata": {
            "tags": []
          },
          "execution_count": 32
        }
      ]
    },
    {
      "cell_type": "code",
      "metadata": {
        "colab": {
          "base_uri": "https://localhost:8080/"
        },
        "id": "cMG8cFPJgL79",
        "outputId": "4a82b2b1-ae15-4e42-e774-a7cee1c6461b"
      },
      "source": [
        "data.target.shape"
      ],
      "execution_count": 33,
      "outputs": [
        {
          "output_type": "execute_result",
          "data": {
            "text/plain": [
              "(569,)"
            ]
          },
          "metadata": {
            "tags": []
          },
          "execution_count": 33
        }
      ]
    },
    {
      "cell_type": "code",
      "metadata": {
        "colab": {
          "base_uri": "https://localhost:8080/"
        },
        "id": "sHzb7GajgR_d",
        "outputId": "d7ff5b77-4ec8-4a78-8331-8dcd2940dbce"
      },
      "source": [
        "data.feature_names"
      ],
      "execution_count": 34,
      "outputs": [
        {
          "output_type": "execute_result",
          "data": {
            "text/plain": [
              "array(['mean radius', 'mean texture', 'mean perimeter', 'mean area',\n",
              "       'mean smoothness', 'mean compactness', 'mean concavity',\n",
              "       'mean concave points', 'mean symmetry', 'mean fractal dimension',\n",
              "       'radius error', 'texture error', 'perimeter error', 'area error',\n",
              "       'smoothness error', 'compactness error', 'concavity error',\n",
              "       'concave points error', 'symmetry error',\n",
              "       'fractal dimension error', 'worst radius', 'worst texture',\n",
              "       'worst perimeter', 'worst area', 'worst smoothness',\n",
              "       'worst compactness', 'worst concavity', 'worst concave points',\n",
              "       'worst symmetry', 'worst fractal dimension'], dtype='<U23')"
            ]
          },
          "metadata": {
            "tags": []
          },
          "execution_count": 34
        }
      ]
    },
    {
      "cell_type": "code",
      "metadata": {
        "id": "WJXMafEFgW_u"
      },
      "source": [
        "# split data into train and test\n",
        "\n",
        "from sklearn.model_selection import train_test_split\n",
        "\n",
        "X_train, X_test, y_train, y_test = train_test_split(data.data, data.target, test_size = 0.33)\n",
        "N, D = X_train.shape"
      ],
      "execution_count": 35,
      "outputs": []
    },
    {
      "cell_type": "code",
      "metadata": {
        "id": "hf9vfeiegwIM"
      },
      "source": [
        "from sklearn.preprocessing import StandardScaler\n",
        "\n",
        "scaler = StandardScaler()\n",
        "X_train = scaler.fit_transform(X_train)\n",
        "X_test = scaler.transform(X_test)"
      ],
      "execution_count": 36,
      "outputs": []
    },
    {
      "cell_type": "markdown",
      "metadata": {
        "id": "haRzqvFFpDNW"
      },
      "source": [
        "# **Train Model**"
      ]
    },
    {
      "cell_type": "code",
      "metadata": {
        "colab": {
          "base_uri": "https://localhost:8080/"
        },
        "id": "VA5Z_5NPhB2N",
        "outputId": "857aba3a-a294-4461-e01e-8c36915c3689"
      },
      "source": [
        "# Build model\n",
        "model = tf.keras.models.Sequential([\n",
        "  tf.keras.layers.Input(shape=(D,)), # Input layer\n",
        "  tf.keras.layers.Dense(1, activation='sigmoid') # Dense layer \n",
        "])\n",
        "\n",
        "# Compile model\n",
        "model.compile(optimizer='adam',\n",
        "              loss='binary_crossentropy',\n",
        "              metrics=['accuracy'])\n",
        "\n",
        "# Train model\n",
        "r = model.fit(X_train, y_train, validation_data=(X_test, y_test), epochs = 100)\n",
        "\n",
        "# Evaluate model\n",
        "print(\"Train score :\", model.evaluate(X_train, y_train))\n",
        "print(\"Test score :\", model.evaluate(X_test, y_test))"
      ],
      "execution_count": 39,
      "outputs": [
        {
          "output_type": "stream",
          "text": [
            "WARNING:tensorflow:Please add `keras.layers.InputLayer` instead of `keras.Input` to Sequential model. `keras.Input` is intended to be used by Functional model.\n",
            "Epoch 1/100\n",
            "12/12 [==============================] - 1s 15ms/step - loss: 0.3750 - accuracy: 0.8871 - val_loss: 0.3201 - val_accuracy: 0.9362\n",
            "Epoch 2/100\n",
            "12/12 [==============================] - 0s 2ms/step - loss: 0.3482 - accuracy: 0.8950 - val_loss: 0.2968 - val_accuracy: 0.9415\n",
            "Epoch 3/100\n",
            "12/12 [==============================] - 0s 3ms/step - loss: 0.3260 - accuracy: 0.9029 - val_loss: 0.2768 - val_accuracy: 0.9521\n",
            "Epoch 4/100\n",
            "12/12 [==============================] - 0s 3ms/step - loss: 0.3057 - accuracy: 0.9108 - val_loss: 0.2598 - val_accuracy: 0.9521\n",
            "Epoch 5/100\n",
            "12/12 [==============================] - 0s 3ms/step - loss: 0.2886 - accuracy: 0.9134 - val_loss: 0.2452 - val_accuracy: 0.9574\n",
            "Epoch 6/100\n",
            "12/12 [==============================] - 0s 3ms/step - loss: 0.2735 - accuracy: 0.9134 - val_loss: 0.2322 - val_accuracy: 0.9574\n",
            "Epoch 7/100\n",
            "12/12 [==============================] - 0s 4ms/step - loss: 0.2604 - accuracy: 0.9160 - val_loss: 0.2208 - val_accuracy: 0.9574\n",
            "Epoch 8/100\n",
            "12/12 [==============================] - 0s 3ms/step - loss: 0.2489 - accuracy: 0.9239 - val_loss: 0.2109 - val_accuracy: 0.9574\n",
            "Epoch 9/100\n",
            "12/12 [==============================] - 0s 5ms/step - loss: 0.2381 - accuracy: 0.9291 - val_loss: 0.2020 - val_accuracy: 0.9574\n",
            "Epoch 10/100\n",
            "12/12 [==============================] - 0s 3ms/step - loss: 0.2290 - accuracy: 0.9318 - val_loss: 0.1943 - val_accuracy: 0.9574\n",
            "Epoch 11/100\n",
            "12/12 [==============================] - 0s 4ms/step - loss: 0.2203 - accuracy: 0.9318 - val_loss: 0.1871 - val_accuracy: 0.9628\n",
            "Epoch 12/100\n",
            "12/12 [==============================] - 0s 4ms/step - loss: 0.2126 - accuracy: 0.9370 - val_loss: 0.1807 - val_accuracy: 0.9628\n",
            "Epoch 13/100\n",
            "12/12 [==============================] - 0s 4ms/step - loss: 0.2056 - accuracy: 0.9370 - val_loss: 0.1749 - val_accuracy: 0.9628\n",
            "Epoch 14/100\n",
            "12/12 [==============================] - 0s 3ms/step - loss: 0.1993 - accuracy: 0.9370 - val_loss: 0.1696 - val_accuracy: 0.9628\n",
            "Epoch 15/100\n",
            "12/12 [==============================] - 0s 3ms/step - loss: 0.1932 - accuracy: 0.9370 - val_loss: 0.1646 - val_accuracy: 0.9681\n",
            "Epoch 16/100\n",
            "12/12 [==============================] - 0s 3ms/step - loss: 0.1878 - accuracy: 0.9370 - val_loss: 0.1602 - val_accuracy: 0.9681\n",
            "Epoch 17/100\n",
            "12/12 [==============================] - 0s 3ms/step - loss: 0.1828 - accuracy: 0.9423 - val_loss: 0.1559 - val_accuracy: 0.9681\n",
            "Epoch 18/100\n",
            "12/12 [==============================] - 0s 3ms/step - loss: 0.1781 - accuracy: 0.9449 - val_loss: 0.1519 - val_accuracy: 0.9681\n",
            "Epoch 19/100\n",
            "12/12 [==============================] - 0s 2ms/step - loss: 0.1736 - accuracy: 0.9449 - val_loss: 0.1481 - val_accuracy: 0.9681\n",
            "Epoch 20/100\n",
            "12/12 [==============================] - 0s 4ms/step - loss: 0.1697 - accuracy: 0.9449 - val_loss: 0.1448 - val_accuracy: 0.9681\n",
            "Epoch 21/100\n",
            "12/12 [==============================] - 0s 3ms/step - loss: 0.1658 - accuracy: 0.9475 - val_loss: 0.1417 - val_accuracy: 0.9681\n",
            "Epoch 22/100\n",
            "12/12 [==============================] - 0s 2ms/step - loss: 0.1624 - accuracy: 0.9501 - val_loss: 0.1387 - val_accuracy: 0.9681\n",
            "Epoch 23/100\n",
            "12/12 [==============================] - 0s 4ms/step - loss: 0.1591 - accuracy: 0.9501 - val_loss: 0.1360 - val_accuracy: 0.9681\n",
            "Epoch 24/100\n",
            "12/12 [==============================] - 0s 2ms/step - loss: 0.1559 - accuracy: 0.9501 - val_loss: 0.1332 - val_accuracy: 0.9681\n",
            "Epoch 25/100\n",
            "12/12 [==============================] - 0s 2ms/step - loss: 0.1530 - accuracy: 0.9528 - val_loss: 0.1308 - val_accuracy: 0.9681\n",
            "Epoch 26/100\n",
            "12/12 [==============================] - 0s 4ms/step - loss: 0.1502 - accuracy: 0.9528 - val_loss: 0.1286 - val_accuracy: 0.9681\n",
            "Epoch 27/100\n",
            "12/12 [==============================] - 0s 3ms/step - loss: 0.1476 - accuracy: 0.9528 - val_loss: 0.1262 - val_accuracy: 0.9681\n",
            "Epoch 28/100\n",
            "12/12 [==============================] - 0s 4ms/step - loss: 0.1450 - accuracy: 0.9528 - val_loss: 0.1241 - val_accuracy: 0.9681\n",
            "Epoch 29/100\n",
            "12/12 [==============================] - 0s 3ms/step - loss: 0.1428 - accuracy: 0.9528 - val_loss: 0.1220 - val_accuracy: 0.9681\n",
            "Epoch 30/100\n",
            "12/12 [==============================] - 0s 4ms/step - loss: 0.1405 - accuracy: 0.9528 - val_loss: 0.1200 - val_accuracy: 0.9681\n",
            "Epoch 31/100\n",
            "12/12 [==============================] - 0s 3ms/step - loss: 0.1384 - accuracy: 0.9528 - val_loss: 0.1182 - val_accuracy: 0.9734\n",
            "Epoch 32/100\n",
            "12/12 [==============================] - 0s 2ms/step - loss: 0.1363 - accuracy: 0.9554 - val_loss: 0.1164 - val_accuracy: 0.9734\n",
            "Epoch 33/100\n",
            "12/12 [==============================] - 0s 4ms/step - loss: 0.1344 - accuracy: 0.9554 - val_loss: 0.1149 - val_accuracy: 0.9734\n",
            "Epoch 34/100\n",
            "12/12 [==============================] - 0s 4ms/step - loss: 0.1326 - accuracy: 0.9580 - val_loss: 0.1134 - val_accuracy: 0.9734\n",
            "Epoch 35/100\n",
            "12/12 [==============================] - 0s 3ms/step - loss: 0.1309 - accuracy: 0.9580 - val_loss: 0.1118 - val_accuracy: 0.9734\n",
            "Epoch 36/100\n",
            "12/12 [==============================] - 0s 3ms/step - loss: 0.1291 - accuracy: 0.9580 - val_loss: 0.1103 - val_accuracy: 0.9734\n",
            "Epoch 37/100\n",
            "12/12 [==============================] - 0s 3ms/step - loss: 0.1275 - accuracy: 0.9580 - val_loss: 0.1090 - val_accuracy: 0.9734\n",
            "Epoch 38/100\n",
            "12/12 [==============================] - 0s 3ms/step - loss: 0.1260 - accuracy: 0.9580 - val_loss: 0.1076 - val_accuracy: 0.9734\n",
            "Epoch 39/100\n",
            "12/12 [==============================] - 0s 3ms/step - loss: 0.1245 - accuracy: 0.9606 - val_loss: 0.1063 - val_accuracy: 0.9734\n",
            "Epoch 40/100\n",
            "12/12 [==============================] - 0s 3ms/step - loss: 0.1230 - accuracy: 0.9659 - val_loss: 0.1051 - val_accuracy: 0.9734\n",
            "Epoch 41/100\n",
            "12/12 [==============================] - 0s 4ms/step - loss: 0.1217 - accuracy: 0.9659 - val_loss: 0.1039 - val_accuracy: 0.9734\n",
            "Epoch 42/100\n",
            "12/12 [==============================] - 0s 3ms/step - loss: 0.1202 - accuracy: 0.9659 - val_loss: 0.1028 - val_accuracy: 0.9734\n",
            "Epoch 43/100\n",
            "12/12 [==============================] - 0s 3ms/step - loss: 0.1190 - accuracy: 0.9685 - val_loss: 0.1017 - val_accuracy: 0.9734\n",
            "Epoch 44/100\n",
            "12/12 [==============================] - 0s 3ms/step - loss: 0.1177 - accuracy: 0.9685 - val_loss: 0.1006 - val_accuracy: 0.9734\n",
            "Epoch 45/100\n",
            "12/12 [==============================] - 0s 4ms/step - loss: 0.1166 - accuracy: 0.9685 - val_loss: 0.0997 - val_accuracy: 0.9734\n",
            "Epoch 46/100\n",
            "12/12 [==============================] - 0s 3ms/step - loss: 0.1154 - accuracy: 0.9685 - val_loss: 0.0986 - val_accuracy: 0.9734\n",
            "Epoch 47/100\n",
            "12/12 [==============================] - 0s 3ms/step - loss: 0.1142 - accuracy: 0.9685 - val_loss: 0.0978 - val_accuracy: 0.9734\n",
            "Epoch 48/100\n",
            "12/12 [==============================] - 0s 3ms/step - loss: 0.1132 - accuracy: 0.9685 - val_loss: 0.0969 - val_accuracy: 0.9734\n",
            "Epoch 49/100\n",
            "12/12 [==============================] - 0s 4ms/step - loss: 0.1121 - accuracy: 0.9685 - val_loss: 0.0960 - val_accuracy: 0.9734\n",
            "Epoch 50/100\n",
            "12/12 [==============================] - 0s 3ms/step - loss: 0.1111 - accuracy: 0.9685 - val_loss: 0.0951 - val_accuracy: 0.9734\n",
            "Epoch 51/100\n",
            "12/12 [==============================] - 0s 3ms/step - loss: 0.1101 - accuracy: 0.9685 - val_loss: 0.0944 - val_accuracy: 0.9734\n",
            "Epoch 52/100\n",
            "12/12 [==============================] - 0s 3ms/step - loss: 0.1091 - accuracy: 0.9685 - val_loss: 0.0936 - val_accuracy: 0.9734\n",
            "Epoch 53/100\n",
            "12/12 [==============================] - 0s 4ms/step - loss: 0.1082 - accuracy: 0.9685 - val_loss: 0.0928 - val_accuracy: 0.9734\n",
            "Epoch 54/100\n",
            "12/12 [==============================] - 0s 3ms/step - loss: 0.1072 - accuracy: 0.9685 - val_loss: 0.0921 - val_accuracy: 0.9734\n",
            "Epoch 55/100\n",
            "12/12 [==============================] - 0s 3ms/step - loss: 0.1064 - accuracy: 0.9685 - val_loss: 0.0913 - val_accuracy: 0.9734\n",
            "Epoch 56/100\n",
            "12/12 [==============================] - 0s 3ms/step - loss: 0.1055 - accuracy: 0.9685 - val_loss: 0.0905 - val_accuracy: 0.9734\n",
            "Epoch 57/100\n",
            "12/12 [==============================] - 0s 3ms/step - loss: 0.1046 - accuracy: 0.9685 - val_loss: 0.0900 - val_accuracy: 0.9734\n",
            "Epoch 58/100\n",
            "12/12 [==============================] - 0s 2ms/step - loss: 0.1039 - accuracy: 0.9685 - val_loss: 0.0893 - val_accuracy: 0.9734\n",
            "Epoch 59/100\n",
            "12/12 [==============================] - 0s 4ms/step - loss: 0.1031 - accuracy: 0.9685 - val_loss: 0.0887 - val_accuracy: 0.9734\n",
            "Epoch 60/100\n",
            "12/12 [==============================] - 0s 3ms/step - loss: 0.1023 - accuracy: 0.9685 - val_loss: 0.0881 - val_accuracy: 0.9787\n",
            "Epoch 61/100\n",
            "12/12 [==============================] - 0s 3ms/step - loss: 0.1015 - accuracy: 0.9711 - val_loss: 0.0875 - val_accuracy: 0.9787\n",
            "Epoch 62/100\n",
            "12/12 [==============================] - 0s 4ms/step - loss: 0.1008 - accuracy: 0.9711 - val_loss: 0.0868 - val_accuracy: 0.9787\n",
            "Epoch 63/100\n",
            "12/12 [==============================] - 0s 2ms/step - loss: 0.1001 - accuracy: 0.9711 - val_loss: 0.0863 - val_accuracy: 0.9787\n",
            "Epoch 64/100\n",
            "12/12 [==============================] - 0s 3ms/step - loss: 0.0994 - accuracy: 0.9738 - val_loss: 0.0858 - val_accuracy: 0.9840\n",
            "Epoch 65/100\n",
            "12/12 [==============================] - 0s 2ms/step - loss: 0.0987 - accuracy: 0.9764 - val_loss: 0.0853 - val_accuracy: 0.9840\n",
            "Epoch 66/100\n",
            "12/12 [==============================] - 0s 3ms/step - loss: 0.0980 - accuracy: 0.9764 - val_loss: 0.0847 - val_accuracy: 0.9840\n",
            "Epoch 67/100\n",
            "12/12 [==============================] - 0s 3ms/step - loss: 0.0974 - accuracy: 0.9764 - val_loss: 0.0842 - val_accuracy: 0.9840\n",
            "Epoch 68/100\n",
            "12/12 [==============================] - 0s 4ms/step - loss: 0.0968 - accuracy: 0.9764 - val_loss: 0.0837 - val_accuracy: 0.9840\n",
            "Epoch 69/100\n",
            "12/12 [==============================] - 0s 3ms/step - loss: 0.0961 - accuracy: 0.9764 - val_loss: 0.0833 - val_accuracy: 0.9840\n",
            "Epoch 70/100\n",
            "12/12 [==============================] - 0s 4ms/step - loss: 0.0955 - accuracy: 0.9764 - val_loss: 0.0828 - val_accuracy: 0.9840\n",
            "Epoch 71/100\n",
            "12/12 [==============================] - 0s 4ms/step - loss: 0.0949 - accuracy: 0.9764 - val_loss: 0.0824 - val_accuracy: 0.9840\n",
            "Epoch 72/100\n",
            "12/12 [==============================] - 0s 4ms/step - loss: 0.0943 - accuracy: 0.9764 - val_loss: 0.0819 - val_accuracy: 0.9840\n",
            "Epoch 73/100\n",
            "12/12 [==============================] - 0s 2ms/step - loss: 0.0938 - accuracy: 0.9764 - val_loss: 0.0814 - val_accuracy: 0.9840\n",
            "Epoch 74/100\n",
            "12/12 [==============================] - 0s 3ms/step - loss: 0.0932 - accuracy: 0.9764 - val_loss: 0.0809 - val_accuracy: 0.9840\n",
            "Epoch 75/100\n",
            "12/12 [==============================] - 0s 4ms/step - loss: 0.0927 - accuracy: 0.9764 - val_loss: 0.0806 - val_accuracy: 0.9840\n",
            "Epoch 76/100\n",
            "12/12 [==============================] - 0s 2ms/step - loss: 0.0922 - accuracy: 0.9764 - val_loss: 0.0802 - val_accuracy: 0.9840\n",
            "Epoch 77/100\n",
            "12/12 [==============================] - 0s 2ms/step - loss: 0.0916 - accuracy: 0.9764 - val_loss: 0.0798 - val_accuracy: 0.9840\n",
            "Epoch 78/100\n",
            "12/12 [==============================] - 0s 4ms/step - loss: 0.0912 - accuracy: 0.9764 - val_loss: 0.0794 - val_accuracy: 0.9894\n",
            "Epoch 79/100\n",
            "12/12 [==============================] - 0s 3ms/step - loss: 0.0906 - accuracy: 0.9764 - val_loss: 0.0791 - val_accuracy: 0.9894\n",
            "Epoch 80/100\n",
            "12/12 [==============================] - 0s 3ms/step - loss: 0.0902 - accuracy: 0.9764 - val_loss: 0.0788 - val_accuracy: 0.9894\n",
            "Epoch 81/100\n",
            "12/12 [==============================] - 0s 3ms/step - loss: 0.0897 - accuracy: 0.9764 - val_loss: 0.0784 - val_accuracy: 0.9894\n",
            "Epoch 82/100\n",
            "12/12 [==============================] - 0s 3ms/step - loss: 0.0892 - accuracy: 0.9764 - val_loss: 0.0781 - val_accuracy: 0.9894\n",
            "Epoch 83/100\n",
            "12/12 [==============================] - 0s 2ms/step - loss: 0.0888 - accuracy: 0.9790 - val_loss: 0.0777 - val_accuracy: 0.9894\n",
            "Epoch 84/100\n",
            "12/12 [==============================] - 0s 4ms/step - loss: 0.0883 - accuracy: 0.9790 - val_loss: 0.0774 - val_accuracy: 0.9947\n",
            "Epoch 85/100\n",
            "12/12 [==============================] - 0s 3ms/step - loss: 0.0879 - accuracy: 0.9790 - val_loss: 0.0771 - val_accuracy: 0.9947\n",
            "Epoch 86/100\n",
            "12/12 [==============================] - 0s 3ms/step - loss: 0.0875 - accuracy: 0.9790 - val_loss: 0.0768 - val_accuracy: 0.9947\n",
            "Epoch 87/100\n",
            "12/12 [==============================] - 0s 3ms/step - loss: 0.0870 - accuracy: 0.9816 - val_loss: 0.0765 - val_accuracy: 0.9947\n",
            "Epoch 88/100\n",
            "12/12 [==============================] - 0s 3ms/step - loss: 0.0866 - accuracy: 0.9816 - val_loss: 0.0761 - val_accuracy: 0.9947\n",
            "Epoch 89/100\n",
            "12/12 [==============================] - 0s 3ms/step - loss: 0.0862 - accuracy: 0.9816 - val_loss: 0.0758 - val_accuracy: 0.9947\n",
            "Epoch 90/100\n",
            "12/12 [==============================] - 0s 4ms/step - loss: 0.0859 - accuracy: 0.9816 - val_loss: 0.0755 - val_accuracy: 0.9947\n",
            "Epoch 91/100\n",
            "12/12 [==============================] - 0s 3ms/step - loss: 0.0854 - accuracy: 0.9816 - val_loss: 0.0752 - val_accuracy: 0.9947\n",
            "Epoch 92/100\n",
            "12/12 [==============================] - 0s 4ms/step - loss: 0.0851 - accuracy: 0.9843 - val_loss: 0.0749 - val_accuracy: 0.9947\n",
            "Epoch 93/100\n",
            "12/12 [==============================] - 0s 3ms/step - loss: 0.0847 - accuracy: 0.9843 - val_loss: 0.0747 - val_accuracy: 0.9947\n",
            "Epoch 94/100\n",
            "12/12 [==============================] - 0s 3ms/step - loss: 0.0843 - accuracy: 0.9843 - val_loss: 0.0745 - val_accuracy: 0.9947\n",
            "Epoch 95/100\n",
            "12/12 [==============================] - 0s 3ms/step - loss: 0.0840 - accuracy: 0.9843 - val_loss: 0.0742 - val_accuracy: 0.9947\n",
            "Epoch 96/100\n",
            "12/12 [==============================] - 0s 4ms/step - loss: 0.0836 - accuracy: 0.9843 - val_loss: 0.0740 - val_accuracy: 0.9947\n",
            "Epoch 97/100\n",
            "12/12 [==============================] - 0s 3ms/step - loss: 0.0833 - accuracy: 0.9843 - val_loss: 0.0737 - val_accuracy: 0.9894\n",
            "Epoch 98/100\n",
            "12/12 [==============================] - 0s 3ms/step - loss: 0.0830 - accuracy: 0.9843 - val_loss: 0.0736 - val_accuracy: 0.9894\n",
            "Epoch 99/100\n",
            "12/12 [==============================] - 0s 3ms/step - loss: 0.0826 - accuracy: 0.9843 - val_loss: 0.0733 - val_accuracy: 0.9894\n",
            "Epoch 100/100\n",
            "12/12 [==============================] - 0s 3ms/step - loss: 0.0823 - accuracy: 0.9843 - val_loss: 0.0730 - val_accuracy: 0.9894\n",
            "12/12 [==============================] - 0s 1ms/step - loss: 0.0820 - accuracy: 0.9843\n",
            "Train score : [0.08203937858343124, 0.9842519760131836]\n",
            "6/6 [==============================] - 0s 2ms/step - loss: 0.0730 - accuracy: 0.9894\n",
            "Test score : [0.07304122298955917, 0.9893617033958435]\n"
          ],
          "name": "stdout"
        }
      ]
    },
    {
      "cell_type": "markdown",
      "metadata": {
        "id": "a05PnLaJo7DK"
      },
      "source": [
        "# **Accuracy Plot**"
      ]
    },
    {
      "cell_type": "code",
      "metadata": {
        "colab": {
          "base_uri": "https://localhost:8080/",
          "height": 282
        },
        "id": "IXt7tLnJhCEo",
        "outputId": "4f8717bc-9fca-44f1-da5c-ae18d4b5c98c"
      },
      "source": [
        "import matplotlib.pyplot as plt\n",
        "plt.plot(r.history['loss'], label='loss')\n",
        "plt.plot(r.history['val_loss'], label='val_loss')\n",
        "plt.legend()\n",
        "\n",
        "# Accuracy Plot\n",
        "plt.plot(r.history['accuracy'], label = 'acc')\n",
        "plt.plot(r.history['val_accuracy'], label = 'val_acc')"
      ],
      "execution_count": 41,
      "outputs": [
        {
          "output_type": "execute_result",
          "data": {
            "text/plain": [
              "[<matplotlib.lines.Line2D at 0x7f8daf689450>]"
            ]
          },
          "metadata": {
            "tags": []
          },
          "execution_count": 41
        },
        {
          "output_type": "display_data",
          "data": {
            "image/png": "[encoded data removed]",
            "text/plain": [
              "<Figure size 432x288 with 1 Axes>"
            ]
          },
          "metadata": {
            "tags": [],
            "needs_background": "light"
          }
        }
      ]
    },
    {
      "cell_type": "code",
      "metadata": {
        "id": "iB-Dbu7vosLH"
      },
      "source": [
        ""
      ],
      "execution_count": null,
      "outputs": []
    },
    {
      "cell_type": "markdown",
      "metadata": {
        "id": "CxsVGKjVouT4"
      },
      "source": [
        "# **Model Prediction**"
      ]
    },
    {
      "cell_type": "code",
      "metadata": {
        "colab": {
          "base_uri": "https://localhost:8080/"
        },
        "id": "fm3QdskskM6y",
        "outputId": "1168c0ae-ba7f-48a9-db75-a513ee5096cd"
      },
      "source": [
        "P = model.predict(X_test)\n",
        "print(P)"
      ],
      "execution_count": 42,
      "outputs": [
        {
          "output_type": "stream",
          "text": [
            "[[3.59518731e-06]\n",
            " [9.11817729e-01]\n",
            " [2.07334757e-04]\n",
            " [9.68840897e-01]\n",
            " [9.77588058e-01]\n",
            " [9.73836362e-01]\n",
            " [4.80793446e-01]\n",
            " [9.96618390e-01]\n",
            " [9.72150385e-01]\n",
            " [1.92345977e-02]\n",
            " [1.59742832e-02]\n",
            " [5.47200441e-04]\n",
            " [5.63617042e-10]\n",
            " [9.98451114e-01]\n",
            " [9.98980165e-01]\n",
            " [9.29280758e-01]\n",
            " [9.98898983e-01]\n",
            " [9.96742785e-01]\n",
            " [1.90335512e-03]\n",
            " [9.99217153e-01]\n",
            " [9.92646933e-01]\n",
            " [9.98414576e-01]\n",
            " [2.63971090e-03]\n",
            " [9.91336823e-01]\n",
            " [9.91425276e-01]\n",
            " [9.99316812e-01]\n",
            " [9.97452974e-01]\n",
            " [6.03567023e-05]\n",
            " [9.99354243e-01]\n",
            " [9.98784542e-01]\n",
            " [9.95953560e-01]\n",
            " [9.95132804e-01]\n",
            " [2.82529294e-02]\n",
            " [9.84130859e-01]\n",
            " [8.67173731e-01]\n",
            " [1.23488903e-03]\n",
            " [5.52053928e-01]\n",
            " [7.85982847e-01]\n",
            " [9.89077926e-01]\n",
            " [1.59141719e-02]\n",
            " [3.65883112e-04]\n",
            " [1.30742788e-04]\n",
            " [3.66708636e-03]\n",
            " [1.31332163e-05]\n",
            " [1.89351201e-01]\n",
            " [9.93366241e-01]\n",
            " [9.97971416e-01]\n",
            " [9.98856425e-01]\n",
            " [9.92049932e-01]\n",
            " [9.99929249e-01]\n",
            " [9.91286039e-01]\n",
            " [9.99122977e-01]\n",
            " [9.18486416e-01]\n",
            " [6.05947207e-07]\n",
            " [9.78419662e-01]\n",
            " [9.75449204e-01]\n",
            " [8.60540195e-10]\n",
            " [7.58608222e-01]\n",
            " [1.14399493e-02]\n",
            " [9.75957870e-01]\n",
            " [4.37745452e-03]\n",
            " [9.95997548e-01]\n",
            " [6.34384852e-13]\n",
            " [9.80871201e-01]\n",
            " [9.95282173e-01]\n",
            " [9.97113764e-01]\n",
            " [3.10778618e-04]\n",
            " [4.95310068e-01]\n",
            " [6.09838963e-03]\n",
            " [9.99216139e-01]\n",
            " [2.43883824e-05]\n",
            " [9.99234021e-01]\n",
            " [9.89617944e-01]\n",
            " [9.94398773e-01]\n",
            " [1.78619921e-02]\n",
            " [9.99785662e-01]\n",
            " [2.80529235e-07]\n",
            " [9.55039203e-01]\n",
            " [9.98554826e-01]\n",
            " [9.90407765e-01]\n",
            " [4.80948895e-01]\n",
            " [9.89937842e-01]\n",
            " [9.99502003e-01]\n",
            " [4.32260036e-02]\n",
            " [6.63822889e-03]\n",
            " [5.83200781e-05]\n",
            " [9.99506474e-01]\n",
            " [8.81127357e-01]\n",
            " [9.79902327e-01]\n",
            " [9.99688089e-01]\n",
            " [9.40232038e-01]\n",
            " [8.37478161e-01]\n",
            " [9.47512031e-01]\n",
            " [4.71757650e-01]\n",
            " [9.96440709e-01]\n",
            " [6.82664752e-01]\n",
            " [9.98691797e-01]\n",
            " [3.07959318e-03]\n",
            " [9.96085644e-01]\n",
            " [1.55270100e-04]\n",
            " [9.93119955e-01]\n",
            " [9.88965869e-01]\n",
            " [6.57550345e-06]\n",
            " [9.38530684e-01]\n",
            " [9.45148706e-01]\n",
            " [9.33423877e-01]\n",
            " [9.90010023e-01]\n",
            " [4.94632721e-02]\n",
            " [7.40309479e-05]\n",
            " [6.13390684e-01]\n",
            " [9.94870543e-01]\n",
            " [9.93860483e-01]\n",
            " [9.62176144e-01]\n",
            " [9.50012505e-01]\n",
            " [1.53093398e-01]\n",
            " [7.35481381e-02]\n",
            " [9.50873733e-01]\n",
            " [5.13552725e-01]\n",
            " [4.16094452e-01]\n",
            " [9.98129249e-01]\n",
            " [9.72536922e-01]\n",
            " [2.29039192e-02]\n",
            " [3.89976003e-06]\n",
            " [7.99860001e-01]\n",
            " [9.99038100e-01]\n",
            " [1.42737180e-01]\n",
            " [9.62906301e-01]\n",
            " [6.19351864e-03]\n",
            " [9.91709292e-01]\n",
            " [9.96489465e-01]\n",
            " [9.71400023e-01]\n",
            " [9.66191292e-01]\n",
            " [9.26840663e-01]\n",
            " [9.18769717e-01]\n",
            " [9.65068996e-01]\n",
            " [6.80081725e-01]\n",
            " [9.66567755e-01]\n",
            " [9.95973885e-01]\n",
            " [9.89946842e-01]\n",
            " [1.44288033e-01]\n",
            " [9.82507765e-01]\n",
            " [9.11593735e-02]\n",
            " [9.91528153e-01]\n",
            " [9.95762706e-01]\n",
            " [3.18914652e-04]\n",
            " [5.95659316e-01]\n",
            " [6.46243036e-01]\n",
            " [9.93947864e-01]\n",
            " [4.82970476e-03]\n",
            " [9.15997386e-01]\n",
            " [9.97822464e-01]\n",
            " [1.49229765e-02]\n",
            " [3.85910273e-03]\n",
            " [1.54197216e-03]\n",
            " [8.35785091e-01]\n",
            " [9.97063339e-01]\n",
            " [8.89602304e-03]\n",
            " [9.99075890e-01]\n",
            " [9.91029680e-01]\n",
            " [9.68563497e-01]\n",
            " [2.16796994e-03]\n",
            " [9.90414500e-01]\n",
            " [9.82640862e-01]\n",
            " [1.59076244e-01]\n",
            " [9.71820712e-01]\n",
            " [9.92011547e-01]\n",
            " [6.57552255e-06]\n",
            " [9.94353056e-01]\n",
            " [5.69650531e-03]\n",
            " [8.39846790e-01]\n",
            " [9.77858305e-01]\n",
            " [9.83867764e-01]\n",
            " [9.97611165e-01]\n",
            " [9.63744998e-01]\n",
            " [1.71765685e-02]\n",
            " [2.95865536e-03]\n",
            " [9.55018759e-01]\n",
            " [3.77893448e-03]\n",
            " [9.57219720e-01]\n",
            " [8.99104178e-01]\n",
            " [9.23171997e-01]\n",
            " [2.42655277e-02]\n",
            " [9.90752101e-01]\n",
            " [2.06644927e-06]\n",
            " [8.13484192e-04]\n",
            " [9.99982893e-01]\n",
            " [7.14884877e-01]\n",
            " [9.93192434e-01]]\n"
          ],
          "name": "stdout"
        }
      ]
    },
    {
      "cell_type": "code",
      "metadata": {
        "colab": {
          "base_uri": "https://localhost:8080/"
        },
        "id": "-WoG3JNmhCUK",
        "outputId": "fd79014b-ef37-498e-b6f3-5b3dfeb242f9"
      },
      "source": [
        "# Round off to get actual predictions\n",
        "import numpy as np\n",
        "P = np.round(P).flatten()\n",
        "print(P)"
      ],
      "execution_count": 43,
      "outputs": [
        {
          "output_type": "stream",
          "text": [
            "[0. 1. 0. 1. 1. 1. 0. 1. 1. 0. 0. 0. 0. 1. 1. 1. 1. 1. 0. 1. 1. 1. 0. 1.\n",
            " 1. 1. 1. 0. 1. 1. 1. 1. 0. 1. 1. 0. 1. 1. 1. 0. 0. 0. 0. 0. 0. 1. 1. 1.\n",
            " 1. 1. 1. 1. 1. 0. 1. 1. 0. 1. 0. 1. 0. 1. 0. 1. 1. 1. 0. 0. 0. 1. 0. 1.\n",
            " 1. 1. 0. 1. 0. 1. 1. 1. 0. 1. 1. 0. 0. 0. 1. 1. 1. 1. 1. 1. 1. 0. 1. 1.\n",
            " 1. 0. 1. 0. 1. 1. 0. 1. 1. 1. 1. 0. 0. 1. 1. 1. 1. 1. 0. 0. 1. 1. 0. 1.\n",
            " 1. 0. 0. 1. 1. 0. 1. 0. 1. 1. 1. 1. 1. 1. 1. 1. 1. 1. 1. 0. 1. 0. 1. 1.\n",
            " 0. 1. 1. 1. 0. 1. 1. 0. 0. 0. 1. 1. 0. 1. 1. 1. 0. 1. 1. 0. 1. 1. 0. 1.\n",
            " 0. 1. 1. 1. 1. 1. 0. 0. 1. 0. 1. 1. 1. 0. 1. 0. 0. 1. 1. 1.]\n"
          ],
          "name": "stdout"
        }
      ]
    },
    {
      "cell_type": "code",
      "metadata": {
        "colab": {
          "base_uri": "https://localhost:8080/"
        },
        "id": "J8i7ncW1oGMS",
        "outputId": "f0c10dd2-4510-43fd-a639-4728b39f9fd6"
      },
      "source": [
        "print(\"Manually calculated accuracy: \", np.mean(P == y_test))\n",
        "print(\"Evaluate output: \", model.evaluate(X_test, y_test))"
      ],
      "execution_count": 44,
      "outputs": [
        {
          "output_type": "stream",
          "text": [
            "Manually calculated accuracy:  0.9893617021276596\n",
            "6/6 [==============================] - 0s 1ms/step - loss: 0.0730 - accuracy: 0.9894\n",
            "Evaluate output:  [0.07304122298955917, 0.9893617033958435]\n"
          ],
          "name": "stdout"
        }
      ]
    },
    {
      "cell_type": "markdown",
      "metadata": {
        "id": "lK6hphX4uUR5"
      },
      "source": [
        "# **Save Model**"
      ]
    },
    {
      "cell_type": "code",
      "metadata": {
        "id": "DZjkaSnVuTcn"
      },
      "source": [
        "# Save model in a h5 file format\n",
        "model.save('PredictCancer.h5')"
      ],
      "execution_count": 45,
      "outputs": []
    },
    {
      "cell_type": "code",
      "metadata": {
        "colab": {
          "base_uri": "https://localhost:8080/"
        },
        "id": "uKIrDVi0ukHe",
        "outputId": "cd06ad7e-2278-488b-f1c6-8d75dcb2c4e5"
      },
      "source": [
        "# Check whether it is saved\n",
        "!ls -lh"
      ],
      "execution_count": 46,
      "outputs": [
        {
          "output_type": "stream",
          "text": [
            "total 24K\n",
            "-rw-r--r-- 1 root root  19K Jul  3 18:56 PredictCancer.h5\n",
            "drwxr-xr-x 1 root root 4.0K Jun 15 13:37 sample_data\n"
          ],
          "name": "stdout"
        }
      ]
    },
    {
      "cell_type": "code",
      "metadata": {
        "colab": {
          "base_uri": "https://localhost:8080/"
        },
        "id": "1WTRZKbtunFM",
        "outputId": "15b100f7-89cf-4c4a-ae62-f016f2cf1a9b"
      },
      "source": [
        "# Load model\n",
        "model = tf.keras.models.load_model('PredictCancer.h5')\n",
        "print(model.layers)\n",
        "model.evaluate(X_test, y_test)"
      ],
      "execution_count": 47,
      "outputs": [
        {
          "output_type": "stream",
          "text": [
            "[<tensorflow.python.keras.layers.core.Dense object at 0x7f8daf47eed0>]\n",
            "6/6 [==============================] - 0s 2ms/step - loss: 0.0730 - accuracy: 0.9894\n"
          ],
          "name": "stdout"
        },
        {
          "output_type": "execute_result",
          "data": {
            "text/plain": [
              "[0.07304122298955917, 0.9893617033958435]"
            ]
          },
          "metadata": {
            "tags": []
          },
          "execution_count": 47
        }
      ]
    },
    {
      "cell_type": "markdown",
      "metadata": {
        "id": "bbAsQEfQwHEj"
      },
      "source": [
        "# **Download saved model**"
      ]
    },
    {
      "cell_type": "code",
      "metadata": {
        "colab": {
          "base_uri": "https://localhost:8080/",
          "height": 17
        },
        "id": "XawjgS_2wGXH",
        "outputId": "84e0ac91-fdcf-4f8d-f5ea-6622975ef2fa"
      },
      "source": [
        "from google.colab import files\n",
        "files.download('PredictCancer.h5')"
      ],
      "execution_count": 48,
      "outputs": [
        {
          "output_type": "display_data",
          "data": {
            "application/javascript": [
              "\n",
              "    async function download(id, filename, size) {\n",
              "      if (!google.colab.kernel.accessAllowed) {\n",
              "        return;\n",
              "      }\n",
              "      const div = document.createElement('div');\n",
              "      const label = document.createElement('label');\n",
              "      label.textContent = `Downloading \"${filename}\": `;\n",
              "      div.appendChild(label);\n",
              "      const progress = document.createElement('progress');\n",
              "      progress.max = size;\n",
              "      div.appendChild(progress);\n",
              "      document.body.appendChild(div);\n",
              "\n",
              "      const buffers = [];\n",
              "      let downloaded = 0;\n",
              "\n",
              "      const channel = await google.colab.kernel.comms.open(id);\n",
              "      // Send a message to notify the kernel that we're ready.\n",
              "      channel.send({})\n",
              "\n",
              "      for await (const message of channel.messages) {\n",
              "        // Send a message to notify the kernel that we're ready.\n",
              "        channel.send({})\n",
              "        if (message.buffers) {\n",
              "          for (const buffer of message.buffers) {\n",
              "            buffers.push(buffer);\n",
              "            downloaded += buffer.byteLength;\n",
              "            progress.value = downloaded;\n",
              "          }\n",
              "        }\n",
              "      }\n",
              "      const blob = new Blob(buffers, {type: 'application/binary'});\n",
              "      const a = document.createElement('a');\n",
              "      a.href = window.URL.createObjectURL(blob);\n",
              "      a.download = filename;\n",
              "      div.appendChild(a);\n",
              "      a.click();\n",
              "      div.remove();\n",
              "    }\n",
              "  "
            ],
            "text/plain": [
              "<IPython.core.display.Javascript object>"
            ]
          },
          "metadata": {
            "tags": []
          }
        },
        {
          "output_type": "display_data",
          "data": {
            "application/javascript": [
              "download(\"download_9c2e466a-4304-4b93-90d8-7704e0a9a75d\", \"PredictCancer.h5\", 18480)"
            ],
            "text/plain": [
              "<IPython.core.display.Javascript object>"
            ]
          },
          "metadata": {
            "tags": []
          }
        }
      ]
    }
  ]
}